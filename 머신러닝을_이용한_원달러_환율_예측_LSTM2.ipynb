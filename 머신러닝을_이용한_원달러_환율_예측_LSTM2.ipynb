{
  "nbformat": 4,
  "nbformat_minor": 0,
  "metadata": {
    "colab": {
      "provenance": [],
      "mount_file_id": "167aBA3ieoiIptR0nqsKbGlJYvvMAN4qM",
      "authorship_tag": "ABX9TyOnG56LuIb1wKidvrdXRgGx",
      "include_colab_link": true
    },
    "kernelspec": {
      "name": "python3",
      "display_name": "Python 3"
    },
    "language_info": {
      "name": "python"
    }
  },
  "cells": [
    {
      "cell_type": "markdown",
      "metadata": {
        "id": "view-in-github",
        "colab_type": "text"
      },
      "source": [
        "<a href=\"https://colab.research.google.com/github/Lim0703/2022-2-ML-Class/blob/main/%EB%A8%B8%EC%8B%A0%EB%9F%AC%EB%8B%9D%EC%9D%84_%EC%9D%B4%EC%9A%A9%ED%95%9C_%EC%9B%90%EB%8B%AC%EB%9F%AC_%ED%99%98%EC%9C%A8_%EC%98%88%EC%B8%A1_LSTM2.ipynb\" target=\"_parent\"><img src=\"https://colab.research.google.com/assets/colab-badge.svg\" alt=\"Open In Colab\"/></a>"
      ]
    },
    {
      "cell_type": "code",
      "execution_count": null,
      "metadata": {
        "id": "H3TCFVXNEUWP"
      },
      "outputs": [],
      "source": [
        "import numpy as np\n",
        "import pandas as pd\n",
        "import datetime\n",
        "import matplotlib.pyplot as plt\n",
        "import tensorflow as tf"
      ]
    },
    {
      "cell_type": "code",
      "source": [
        "# 표준화\n",
        "def data_standardization(x):\n",
        "    x_np = np.asarray(x)\n",
        "    return (x_np - x_np.mean()) / x_np.std()\n",
        "\n",
        "# 너무 작거나 너무 큰 값이 학습을 방해하는 것을 방지하고자 정규화한다\n",
        "# x가 양수라는 가정하에 최소값과 최대값을 이용하여 0~1사이의 값으로 변환\n",
        "# Min-Max scaling\n",
        "def min_max_scaling(x):\n",
        "    x_np = np.asarray(x)\n",
        "    return (x_np - x_np.min()) / (x_np.max() - x_np.min() + 1e-7) # 1e-7은 0으로 나누는 오류 예방차원\n",
        "\n",
        "# 정규화된 값을 원래의 값으로 되돌린다\n",
        "# 정규화하기 이전의 org_x값과 되돌리고 싶은 x를 입력하면 역정규화된 값을 리턴한다\n",
        "def reverse_min_max_scaling(org_x, x):\n",
        "    org_x_np = np.asarray(org_x)\n",
        "    x_np = np.asarray(x)\n",
        "    return (x_np * (org_x_np.max() - org_x_np.min() + 1e-7)) + org_x_np.min()"
      ],
      "metadata": {
        "id": "cE_qhi5YEoyX"
      },
      "execution_count": null,
      "outputs": []
    },
    {
      "cell_type": "code",
      "source": [
        "# 하이퍼파라미터\n",
        "input_data_column_cnt = 4  # 입력데이터의 컬럼 개수(Variable 개수)\n",
        "output_data_column_cnt = 1 # 결과데이터의 컬럼 개수\n",
        "\n",
        "seq_length = 28            # 1개 시퀀스의 길이(시계열데이터 입력 개수)\n",
        "rnn_cell_hidden_dim = 20   # 각 셀의 (hidden)출력 크기\n",
        "forget_bias = 1.0          # 망각편향(기본값 1.0)\n",
        "num_stacked_layers = 1     # stacked LSTM layers 개수\n",
        "keep_prob = 1.0            # dropout할 때 keep할 비율\n",
        "\n",
        "epoch_num = 1000           # 에폭 횟수(학습용전체데이터를 몇 회 반복해서 학습할 것인가 입력)\n",
        "learning_rate = 0.01       # 학습률 (적당히 설정해놔야됨)"
      ],
      "metadata": {
        "id": "WrjZqHNHEsKR"
      },
      "execution_count": null,
      "outputs": []
    },
    {
      "cell_type": "code",
      "source": [
        "raw_dataframe = pd.read_csv('/content/drive/MyDrive/exchange_rate.csv') #판다스이용 csv파일 로딩\n",
        "raw_dataframe.info() # 데이터 정보 출력\n",
        "\n",
        "# raw_dataframe.drop('Date', axis=1, inplace=True) # 시간열을 제거하고 dataframe 재생성하지 않기\n",
        "del raw_dataframe['date'] # 위 줄과 같은 효과\n",
        "\n",
        "df_info = raw_dataframe.values[1:].astype(np.float) # 환율 문자열을 부동소수점형으로 변환한다\n",
        "print(\"df_info.shape: \", df_info.shape)\n",
        "print(\"df_info[0]: \", df_info[0])\n",
        "print('date 값 삭제 후 rea_dateframe.info')\n",
        "raw_dataframe.info() # 데이터 정보 출력"
      ],
      "metadata": {
        "colab": {
          "base_uri": "https://localhost:8080/"
        },
        "id": "E_RMjRcvExeX",
        "outputId": "2bb5e56c-3583-46bc-ff9d-93f3fb7a66f9"
      },
      "execution_count": null,
      "outputs": [
        {
          "output_type": "stream",
          "name": "stdout",
          "text": [
            "<class 'pandas.core.frame.DataFrame'>\n",
            "RangeIndex: 1665 entries, 0 to 1664\n",
            "Data columns (total 5 columns):\n",
            " #   Column  Non-Null Count  Dtype  \n",
            "---  ------  --------------  -----  \n",
            " 0   date    1665 non-null   object \n",
            " 1   usd     1665 non-null   float64\n",
            " 2   cny     1665 non-null   float64\n",
            " 3   jpy     1665 non-null   float64\n",
            " 4   eur     1665 non-null   float64\n",
            "dtypes: float64(4), object(1)\n",
            "memory usage: 65.2+ KB\n",
            "df_info.shape:  (1664, 4)\n",
            "df_info[0]:  [1184.3   179.19  992.42 1282.36]\n",
            "date 값 삭제 후 rea_dateframe.info\n",
            "<class 'pandas.core.frame.DataFrame'>\n",
            "RangeIndex: 1665 entries, 0 to 1664\n",
            "Data columns (total 4 columns):\n",
            " #   Column  Non-Null Count  Dtype  \n",
            "---  ------  --------------  -----  \n",
            " 0   usd     1665 non-null   float64\n",
            " 1   cny     1665 non-null   float64\n",
            " 2   jpy     1665 non-null   float64\n",
            " 3   eur     1665 non-null   float64\n",
            "dtypes: float64(4)\n",
            "memory usage: 52.2 KB\n"
          ]
        },
        {
          "output_type": "stream",
          "name": "stderr",
          "text": [
            "<ipython-input-5-9ffcf6c8f207>:7: DeprecationWarning: `np.float` is a deprecated alias for the builtin `float`. To silence this warning, use `float` by itself. Doing this will not modify any behavior and is safe. If you specifically wanted the numpy scalar type, use `np.float64` here.\n",
            "Deprecated in NumPy 1.20; for more details and guidance: https://numpy.org/devdocs/release/1.20.0-notes.html#deprecations\n",
            "  df_info = raw_dataframe.values[1:].astype(np.float) # 금액&거래량 문자열을 부동소수점형으로 변환한다\n"
          ]
        }
      ]
    },
    {
      "cell_type": "code",
      "source": [
        "# 데이터 전처리\n",
        "# 가격과 거래량 수치의 차이가 많아나서 각각 별도로 정규화한다\n",
        "\n",
        "# 가격형태 데이터들을 정규화한다\n",
        "x = min_max_scaling(df_info) # 가격형태 데이터 정규화 처리\n",
        "print(\"price.shape: \", df_info.shape)\n",
        "print(\"price[0]: \", df_info[0])\n",
        "print(\"x[0]: \", x[0])\n",
        "print(\"=\"*100) # 화면상 구분용\n",
        "\n",
        "y = x[:, [0]] # 타켓은 원달러 환율이다\n",
        "print(\"y[0]: \",y[0])     # y의 첫 값\n",
        "print(\"y[-1]: \",y[-1])   # y의 마지막 값"
      ],
      "metadata": {
        "colab": {
          "base_uri": "https://localhost:8080/"
        },
        "id": "_D3DXKmyF7rZ",
        "outputId": "e9031fd8-1c9c-40b4-e70d-55d9274366bd"
      },
      "execution_count": null,
      "outputs": [
        {
          "output_type": "stream",
          "name": "stdout",
          "text": [
            "price.shape:  (1664, 4)\n",
            "price[0]:  [1184.3   179.19  992.42 1282.36]\n",
            "x[0]:  [0.80227052 0.01424562 0.65183304 0.87915138]\n",
            "====================================================================================================\n",
            "y[0]:  [0.80227052]\n",
            "y[-1]:  [0.99866717]\n"
          ]
        }
      ]
    },
    {
      "cell_type": "code",
      "source": [
        "dataX = [] # 입력으로 사용될 Sequence Data\n",
        "dataY = [] # 출력(타켓)으로 사용\n",
        "\n",
        "for i in range(0, len(y) - seq_length):\n",
        "    _x = x[i : i+seq_length]\n",
        "    _y = y[i + seq_length] # 다음 나타날 환율(정답)\n",
        "    if i is 0:\n",
        "        print(_x, \"->\", _y) # 첫번째 행만 출력해 봄\n",
        "    dataX.append(_x) # dataX 리스트에 추가\n",
        "    dataY.append(_y) # dataY 리스트에 추가"
      ],
      "metadata": {
        "colab": {
          "base_uri": "https://localhost:8080/"
        },
        "id": "oMW4E8mDGoBJ",
        "outputId": "4da245b9-f4fd-437c-d69b-751079eb70f7"
      },
      "execution_count": null,
      "outputs": [
        {
          "output_type": "stream",
          "name": "stdout",
          "text": [
            "[[0.80227052 0.01424562 0.65183304 0.87915138]\n",
            " [0.80493618 0.01407313 0.65554144 0.87523913]\n",
            " [0.8097971  0.01413585 0.66382852 0.88248346]\n",
            " [0.8143444  0.01412801 0.67387964 0.90111174]\n",
            " [0.81160034 0.01419858 0.67619249 0.90228777]\n",
            " [0.82132217 0.01559413 0.67892872 0.90281306]\n",
            " [0.82124377 0.01727193 0.67865431 0.9018252 ]\n",
            " [0.81959733 0.01764042 0.67790949 0.90368332]\n",
            " [0.82453664 0.0178913  0.67851319 0.90649011]\n",
            " [0.82320381 0.01730329 0.6857732  0.9104102 ]\n",
            " [0.82437984 0.01820491 0.6834525  0.90903033]\n",
            " [0.82234139 0.01756986 0.68020667 0.90889704]\n",
            " [0.82367422 0.01767962 0.68610249 0.90812086]\n",
            " [0.82234139 0.01730329 0.67893656 0.90496127]\n",
            " [0.81708847 0.01662903 0.66830527 0.89207984]\n",
            " [0.81018911 0.01548437 0.66502807 0.89001788]\n",
            " [0.81567724 0.0161351  0.66946561 0.89762286]\n",
            " [0.81536363 0.0161351  0.66765453 0.90015524]\n",
            " [0.82116537 0.01706024 0.67120613 0.91036316]\n",
            " [0.81944052 0.01679368 0.65257785 0.89717597]\n",
            " [0.81810769 0.0168956  0.65437326 0.90229561]\n",
            " [0.81701007 0.01633895 0.6612099  0.90435758]\n",
            " [0.82767272 0.01752281 0.6825352  0.9316963 ]\n",
            " [0.81669646 0.01631543 0.68082604 0.93023019]\n",
            " [0.81073792 0.01623702 0.69961897 0.9308574 ]\n",
            " [0.81222755 0.01706024 0.70791388 0.93582024]\n",
            " [0.81967573 0.01840876 0.70654185 0.93625929]\n",
            " [0.82234139 0.01946718 0.70275504 0.9331389 ]] -> [0.82759432]\n"
          ]
        },
        {
          "output_type": "stream",
          "name": "stderr",
          "text": [
            "<>:7: SyntaxWarning: \"is\" with a literal. Did you mean \"==\"?\n",
            "<>:7: SyntaxWarning: \"is\" with a literal. Did you mean \"==\"?\n",
            "<ipython-input-7-d1b3c1d3d540>:7: SyntaxWarning: \"is\" with a literal. Did you mean \"==\"?\n",
            "  if i is 0:\n"
          ]
        }
      ]
    },
    {
      "cell_type": "code",
      "source": [
        "# 학습용/테스트용 데이터 생성\n",
        "# 전체 70%를 학습용 데이터로 사용\n",
        "train_size = int(len(dataY) * 0.7)\n",
        "# 나머지(30%)를 테스트용 데이터로 사용\n",
        "test_size = len(dataY) - train_size\n",
        "\n",
        "# 데이터를 잘라 학습용 데이터 생성\n",
        "trainX = np.array(dataX[0:train_size])\n",
        "trainY = np.array(dataY[0:train_size])\n",
        "\n",
        "# 데이터를 잘라 테스트용 데이터 생성\n",
        "testX = np.array(dataX[train_size:len(dataX)])\n",
        "testY = np.array(dataY[train_size:len(dataY)])"
      ],
      "metadata": {
        "id": "TQLZ_YLNG8Hz"
      },
      "execution_count": null,
      "outputs": []
    },
    {
      "cell_type": "code",
      "source": [
        "import tensorflow.compat.v1 as tf\n",
        "tf.disable_v2_behavior()\n",
        "# 텐서플로우 플레이스홀더 생성\n",
        "# 입력 X, 출력 Y를 생성한다\n",
        "X = tf.compat.v1.placeholder(tf.float32, [None, seq_length, input_data_column_cnt])\n",
        "print(\"X: \", X)\n",
        "Y = tf.compat.v1.placeholder(tf.float32, [None, 1])\n",
        "print(\"Y: \", Y)\n",
        "\n",
        "# 검증용 측정지표를 산출하기 위한 targets, predictions를 생성한다\n",
        "targets = tf.compat.v1.placeholder(tf.float32, [None, 1])\n",
        "print(\"targets: \", targets)\n",
        "\n",
        "predictions = tf.compat.v1.placeholder(tf.float32, [None, 1])\n",
        "print(\"predictions: \", predictions)"
      ],
      "metadata": {
        "colab": {
          "base_uri": "https://localhost:8080/"
        },
        "id": "bt3r0USKHESQ",
        "outputId": "d1c614b3-4305-474b-de0d-4ab5fe714fbe"
      },
      "execution_count": null,
      "outputs": [
        {
          "output_type": "stream",
          "name": "stderr",
          "text": [
            "WARNING:tensorflow:From /usr/local/lib/python3.8/dist-packages/tensorflow/python/compat/v2_compat.py:107: disable_resource_variables (from tensorflow.python.ops.variable_scope) is deprecated and will be removed in a future version.\n",
            "Instructions for updating:\n",
            "non-resource variables are not supported in the long term\n"
          ]
        },
        {
          "output_type": "stream",
          "name": "stdout",
          "text": [
            "X:  Tensor(\"Placeholder:0\", shape=(?, 28, 4), dtype=float32)\n",
            "Y:  Tensor(\"Placeholder_1:0\", shape=(?, 1), dtype=float32)\n",
            "targets:  Tensor(\"Placeholder_2:0\", shape=(?, 1), dtype=float32)\n",
            "predictions:  Tensor(\"Placeholder_3:0\", shape=(?, 1), dtype=float32)\n"
          ]
        }
      ]
    },
    {
      "cell_type": "code",
      "source": [
        "pip install tf-slim"
      ],
      "metadata": {
        "colab": {
          "base_uri": "https://localhost:8080/"
        },
        "id": "VPt_L27xMi88",
        "outputId": "2e2b358f-ddae-44d5-d6b0-b0ffa41e8b03"
      },
      "execution_count": null,
      "outputs": [
        {
          "output_type": "stream",
          "name": "stdout",
          "text": [
            "Looking in indexes: https://pypi.org/simple, https://us-python.pkg.dev/colab-wheels/public/simple/\n",
            "Collecting tf-slim\n",
            "  Downloading tf_slim-1.1.0-py2.py3-none-any.whl (352 kB)\n",
            "\u001b[K     |████████████████████████████████| 352 kB 3.9 MB/s \n",
            "\u001b[?25hRequirement already satisfied: absl-py>=0.2.2 in /usr/local/lib/python3.8/dist-packages (from tf-slim) (1.3.0)\n",
            "Installing collected packages: tf-slim\n",
            "Successfully installed tf-slim-1.1.0\n"
          ]
        }
      ]
    },
    {
      "cell_type": "code",
      "source": [
        "# 모델(LSTM 네트워크) 생성\n",
        "def lstm_cell():\n",
        "    # LSTM셀을 생성\n",
        "    # num_units: 각 Cell 출력 크기\n",
        "    # forget_bias:  to the biases of the forget gate\n",
        "    #              (default: 1)  in order to reduce the scale of forgetting in the beginning of the training.\n",
        "    # state_is_tuple: True ==> accepted and returned states are 2-tuples of the c_state and m_state.\n",
        "    # state_is_tuple: False ==> they are concatenated along the column axis.\n",
        "    cell = tf.compat.v1.nn.rnn_cell.BasicLSTMCell(num_units=rnn_cell_hidden_dim,\n",
        "                                        forget_bias=forget_bias, state_is_tuple=True, activation=tf.nn.softsign)\n",
        "    if keep_prob < 1.0:\n",
        "        cell = tf.compat.v1.nn.rnn_cell.DropoutWrapper(cell, output_keep_prob=keep_prob)\n",
        "    return cell\n",
        "\n",
        "# num_stacked_layers개의 층으로 쌓인 Stacked RNNs 생성\n",
        "stackedRNNs = [lstm_cell() for _ in range(num_stacked_layers)]\n",
        "multi_cells = tf.compat.v1.nn.rnn_cell.MultiRNNCell(stackedRNNs, state_is_tuple=True) if num_stacked_layers > 1 else lstm_cell()\n",
        "\n",
        "# RNN Cell(여기서는 LSTM셀임)들을 연결\n",
        "hypothesis, _states = tf.compat.v1.nn.dynamic_rnn(multi_cells, X, dtype=tf.float32)\n",
        "print(\"hypothesis: \", hypothesis)\n",
        "\n",
        "# [:, -1]를 잘 살펴보자. LSTM RNN의 마지막 (hidden)출력만을 사용했다.\n",
        "# 과거 여러 거래일의 주가를 이용해서 다음날의 환율 1개를 예측하기때문에 MANY-TO-ONE형태이다\n",
        "from tf_slim.layers import layers as _layers\n",
        "hypothesis = _layers.fully_connected(hypothesis[:, -1], output_data_column_cnt, activation_fn=tf.identity)"
      ],
      "metadata": {
        "colab": {
          "base_uri": "https://localhost:8080/"
        },
        "id": "a8Batgu7HcPQ",
        "outputId": "c75157fe-6341-459c-ba10-6712821708a5"
      },
      "execution_count": null,
      "outputs": [
        {
          "output_type": "stream",
          "name": "stderr",
          "text": [
            "<ipython-input-11-c117ecffe2fe>:9: UserWarning: `tf.nn.rnn_cell.BasicLSTMCell` is deprecated and will be removed in a future version. This class is equivalent as `tf.keras.layers.LSTMCell`, and will be replaced by that in Tensorflow 2.0.\n",
            "  cell = tf.compat.v1.nn.rnn_cell.BasicLSTMCell(num_units=rnn_cell_hidden_dim,\n",
            "WARNING:tensorflow:From <ipython-input-11-c117ecffe2fe>:20: dynamic_rnn (from tensorflow.python.ops.rnn) is deprecated and will be removed in a future version.\n",
            "Instructions for updating:\n",
            "Please use `keras.layers.RNN(cell)`, which is equivalent to this API\n",
            "WARNING:tensorflow:From /usr/local/lib/python3.8/dist-packages/keras/layers/rnn/legacy_cells.py:726: calling Zeros.__init__ (from tensorflow.python.ops.init_ops) with dtype is deprecated and will be removed in a future version.\n",
            "Instructions for updating:\n",
            "Call initializer instance with the dtype argument instead of passing it to the constructor\n"
          ]
        },
        {
          "output_type": "stream",
          "name": "stdout",
          "text": [
            "hypothesis:  Tensor(\"rnn/transpose_1:0\", shape=(?, 28, 20), dtype=float32)\n"
          ]
        },
        {
          "output_type": "stream",
          "name": "stderr",
          "text": [
            "/usr/local/lib/python3.8/dist-packages/tensorflow/python/keras/engine/base_layer_v1.py:1694: UserWarning: `layer.apply` is deprecated and will be removed in a future version. Please use `layer.__call__` method instead.\n",
            "  warnings.warn('`layer.apply` is deprecated and '\n"
          ]
        }
      ]
    },
    {
      "cell_type": "code",
      "source": [
        "# 손실함수로 평균제곱오차를 사용한다\n",
        "loss = tf.reduce_sum(tf.square(hypothesis - Y))\n",
        "# 최적화함수로 AdamOptimizer를 사용한다\n",
        "optimizer = tf.train.AdamOptimizer(learning_rate)\n",
        "# optimizer = tf.train.RMSPropOptimizer(learning_rate) # LSTM과 궁합 별로임\n",
        "\n",
        "train = optimizer.minimize(loss)\n",
        "\n",
        "# RMSE(Root Mean Square Error)\n",
        "# 제곱오차의 평균을 구하고 다시 제곱근을 구하면 평균 오차가 나온다\n",
        "# rmse = tf.sqrt(tf.reduce_mean(tf.square(targets-predictions))) # 아래 코드와 같다\n",
        "rmse = tf.sqrt(tf.reduce_mean(tf.squared_difference(targets, predictions)))"
      ],
      "metadata": {
        "id": "eEQxdQViHktn"
      },
      "execution_count": null,
      "outputs": []
    },
    {
      "cell_type": "code",
      "source": [
        "train_error_summary = [] # 학습용 데이터의 오류를 중간 중간 기록한다\n",
        "test_error_summary = []  # 테스트용 데이터의 오류를 중간 중간 기록한다\n",
        "test_predict = ''        # 테스트용데이터로 예측한 결과\n",
        "\n",
        "sess = tf.Session()\n",
        "sess.run(tf.global_variables_initializer())\n",
        "\n",
        "# 학습한다\n",
        "start_time = datetime.datetime.now() # 시작시간을 기록한다\n",
        "print('학습을 시작합니다...')\n",
        "for epoch in range(epoch_num):\n",
        "    _, _loss = sess.run([train, loss], feed_dict={X: trainX, Y: trainY})\n",
        "    if ((epoch+1) % 100 == 0) or (epoch == epoch_num-1): # 100번째마다 또는 마지막 epoch인 경우\n",
        "        # 학습용데이터로 rmse오차를 구한다\n",
        "        train_predict = sess.run(hypothesis, feed_dict={X: trainX})\n",
        "        train_error = sess.run(rmse, feed_dict={targets: trainY, predictions: train_predict})\n",
        "        train_error_summary.append(train_error)\n",
        "\n",
        "        # 테스트용데이터로 rmse오차를 구한다\n",
        "        test_predict = sess.run(hypothesis, feed_dict={X: testX})\n",
        "        test_error = sess.run(rmse, feed_dict={targets: testY, predictions: test_predict})\n",
        "        test_error_summary.append(test_error)\n",
        "\n",
        "        # 현재 오류를 출력한다\n",
        "        print(\"epoch: {}, train_error(A): {}, test_error(B): {}, B-A: {}\".format(epoch+1, train_error, test_error, test_error-train_error))\n",
        "\n",
        "end_time = datetime.datetime.now() # 종료시간을 기록한다\n",
        "elapsed_time = end_time - start_time # 경과시간을 구한다\n",
        "print('elapsed_time:',elapsed_time)\n",
        "print('elapsed_time per epoch:',elapsed_time/epoch_num)"
      ],
      "metadata": {
        "colab": {
          "base_uri": "https://localhost:8080/"
        },
        "id": "0v-ESiPbNYxK",
        "outputId": "10abbdde-84a6-4791-bc02-8959d5338f5e"
      },
      "execution_count": null,
      "outputs": [
        {
          "output_type": "stream",
          "name": "stdout",
          "text": [
            "학습을 시작합니다...\n",
            "epoch: 100, train_error(A): 0.027529427781701088, test_error(B): 0.06963489949703217, B-A: 0.04210547357797623\n",
            "epoch: 200, train_error(A): 0.025179212912917137, test_error(B): 0.06684339046478271, B-A: 0.04166417568922043\n",
            "epoch: 300, train_error(A): 0.021630477160215378, test_error(B): 0.06280974298715591, B-A: 0.041179265826940536\n",
            "epoch: 400, train_error(A): 0.016189148649573326, test_error(B): 0.054939720779657364, B-A: 0.03875057399272919\n",
            "epoch: 500, train_error(A): 0.011562674306333065, test_error(B): 0.03962121903896332, B-A: 0.028058543801307678\n",
            "epoch: 600, train_error(A): 0.00979832373559475, test_error(B): 0.034152835607528687, B-A: 0.024354511871933937\n",
            "epoch: 700, train_error(A): 0.008385996334254742, test_error(B): 0.027538394555449486, B-A: 0.01915239915251732\n",
            "epoch: 800, train_error(A): 0.009069462306797504, test_error(B): 0.022461671382188797, B-A: 0.013392209075391293\n",
            "epoch: 900, train_error(A): 0.007939237169921398, test_error(B): 0.022886214777827263, B-A: 0.014946977607905865\n",
            "epoch: 1000, train_error(A): 0.007225372362881899, test_error(B): 0.020749438554048538, B-A: 0.013524066656827927\n",
            "elapsed_time: 0:01:30.285704\n",
            "elapsed_time per epoch: 0:00:00.090286\n"
          ]
        }
      ]
    },
    {
      "cell_type": "code",
      "source": [
        "# 하이퍼파라미터 출력\n",
        "print('input_data_column_cnt:', input_data_column_cnt, end='')\n",
        "print(',output_data_column_cnt:', output_data_column_cnt, end='')\n",
        "\n",
        "print(',seq_length:', seq_length, end='')\n",
        "print(',rnn_cell_hidden_dim:', rnn_cell_hidden_dim, end='')\n",
        "print(',forget_bias:', forget_bias, end='')\n",
        "print(',num_stacked_layers:', num_stacked_layers, end='')\n",
        "print(',keep_prob:', keep_prob, end='')\n",
        "\n",
        "print(',epoch_num:', epoch_num, end='')\n",
        "print(',learning_rate:', learning_rate, end='')\n",
        "\n",
        "print(',train_error:', train_error_summary[-1], end='')\n",
        "print(',test_error:', test_error_summary[-1], end='')\n",
        "print(',min_test_error:', np.min(test_error_summary))\n",
        "\n",
        "# 결과 그래프 출력\n",
        "plt.figure(1)\n",
        "plt.plot(train_error_summary, 'gold')\n",
        "plt.plot(test_error_summary, 'b')\n",
        "plt.xlabel('Epoch(x100)')\n",
        "plt.ylabel('Root Mean Square Error')\n",
        "\n",
        "plt.figure(2)\n",
        "plt.plot(testY, 'r')\n",
        "plt.plot(test_predict, 'b')\n",
        "plt.xlabel('Time Period')\n",
        "plt.ylabel('wondollar Price')\n",
        "plt.show()"
      ],
      "metadata": {
        "colab": {
          "base_uri": "https://localhost:8080/",
          "height": 579
        },
        "id": "pJz9oHMAPhrS",
        "outputId": "533c01af-0869-4d15-9e16-607348ddd2be"
      },
      "execution_count": null,
      "outputs": [
        {
          "output_type": "stream",
          "name": "stdout",
          "text": [
            "input_data_column_cnt: 4,output_data_column_cnt: 1,seq_length: 28,rnn_cell_hidden_dim: 20,forget_bias: 1.0,num_stacked_layers: 1,keep_prob: 1.0,epoch_num: 1000,learning_rate: 0.01,train_error: 0.0072253724,test_error: 0.020749439,min_test_error: 0.020749439\n"
          ]
        },
        {
          "output_type": "display_data",
          "data": {
            "text/plain": [
              "<Figure size 432x288 with 1 Axes>"
            ],
            "image/png": "[encoded data removed]"
          },
          "metadata": {
            "needs_background": "light"
          }
        },
        {
          "output_type": "display_data",
          "data": {
            "text/plain": [
              "<Figure size 432x288 with 1 Axes>"
            ],
            "image/png": "[encoded data removed]"
          },
          "metadata": {
            "needs_background": "light"
          }
        }
      ]
    },
    {
      "cell_type": "code",
      "source": [
        "# sequence length만큼의 가장 최근 데이터를 슬라이싱한다\n",
        "recent_data = np.array([x[len(x)-seq_length : ]])\n",
        "print(\"recent_data.shape:\", recent_data.shape)\n",
        "print(\"recent_data:\", recent_data)\n",
        "\n",
        "# 내일 종가를 예측해본다\n",
        "test_predict = sess.run(hypothesis, feed_dict={X: recent_data})\n",
        "\n",
        "print(\"test_predict\", test_predict[0])\n",
        "test_predict = reverse_min_max_scaling(df_info,test_predict) # 금액데이터 역정규화한다\n",
        "print(\"Tomorrow's wondollar price\", test_predict[0]) # 예측한 환율을 출력한다"
      ],
      "metadata": {
        "colab": {
          "base_uri": "https://localhost:8080/"
        },
        "id": "H-voX9TqPj6D",
        "outputId": "96f400e3-18f3-471c-c32a-52ce7efda1d1"
      },
      "execution_count": null,
      "outputs": [
        {
          "output_type": "stream",
          "name": "stdout",
          "text": [
            "recent_data.shape: (1, 28, 4)\n",
            "recent_data: [[[0.91391476 0.02625678 0.63327532 0.91766237]\n",
            "  [0.92293097 0.02708784 0.63687396 0.91673723]\n",
            "  [0.92575344 0.02689184 0.64352244 0.92291529]\n",
            "  [0.92543983 0.02685264 0.64059805 0.92186471]\n",
            "  [0.92191175 0.02642927 0.64127231 0.91886976]\n",
            "  [0.91846207 0.02601374 0.63103302 0.91281714]\n",
            "  [0.93037915 0.02652335 0.63531376 0.93016747]\n",
            "  [0.93022235 0.02651551 0.63476495 0.93238624]\n",
            "  [0.9283407  0.02633518 0.63138583 0.93350739]\n",
            "  [0.93328002 0.02693104 0.62977859 0.92761157]\n",
            "  [0.93727851 0.02769938 0.63138583 0.9289836 ]\n",
            "  [0.94762756 0.0285618  0.63815975 0.94140245]\n",
            "  [0.94809797 0.02861668 0.62331828 0.9364945 ]\n",
            "  [0.95985825 0.0294007  0.62739518 0.96018754]\n",
            "  [0.95664377 0.02920469 0.63274218 0.97018377]\n",
            "  [0.95162605 0.02951046 0.6175479  0.94796469]\n",
            "  [0.96487597 0.03026312 0.6368034  0.96286104]\n",
            "  [0.96683601 0.03049832 0.63627811 0.96606768]\n",
            "  [0.96683601 0.02965942 0.6385988  0.9688039 ]\n",
            "  [0.96362154 0.02924389 0.63412206 0.96661649]\n",
            "  [0.96283752 0.02905573 0.63203657 0.95978769]\n",
            "  [0.9663656  0.0288362  0.63096246 0.94888199]\n",
            "  [0.97765547 0.02934581 0.64926929 0.95988177]\n",
            "  [0.97796908 0.02930661 0.64329507 0.94434252]\n",
            "  [0.99466867 0.03029448 0.64899489 0.95106156]\n",
            "  [0.99270863 0.03002007 0.64635275 0.94666322]\n",
            "  [1.         0.02982407 0.6543811  0.9688039 ]\n",
            "  [0.99866717 0.03029448 0.65248377 0.97830621]]]\n",
            "test_predict [0.9257196]\n",
            "Tomorrow's wondollar price [1341.7568]\n"
          ]
        }
      ]
    }
  ]
}